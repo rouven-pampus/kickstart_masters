{
 "cells": [
  {
   "cell_type": "code",
   "execution_count": null,
   "id": "22ff848d-631b-4847-8668-1d021e9389ee",
   "metadata": {
    "tags": []
   },
   "outputs": [],
   "source": [
    "import pandas as pd\n",
    "from sklearn.model_selection import train_test_split\n",
    "from sklearn.preprocessing import StandardScaler\n",
    "from sklearn.linear_model import LinearRegression\n",
    "from sklearn.metrics import mean_squared_error\n",
    "from sklearn.metrics import r2_score\n",
    "\n",
    "import numpy as np\n",
    "import matplotlib.pyplot as plt\n",
    "import seaborn as sns"
   ]
  },
  {
   "cell_type": "code",
   "execution_count": null,
   "id": "9294d79c-51bb-45b5-bfe3-b49ce5af13c9",
   "metadata": {
    "tags": []
   },
   "outputs": [],
   "source": [
    "df = pd.read_csv('data/cleaned_encoded_kickstarter_projects.csv')\n",
    "df.head()"
   ]
  },
  {
   "cell_type": "code",
   "execution_count": null,
   "id": "11f6158f-44e6-4328-aa18-e2524e7c20c3",
   "metadata": {
    "tags": []
   },
   "outputs": [],
   "source": [
    "df = df.drop(df[df.state == 'Live'].index)\n",
    "df = df.drop(df[df.state == 'Suspended'].index)"
   ]
  },
  {
   "cell_type": "code",
   "execution_count": null,
   "id": "c97add41-8b53-4e8c-a394-0ede7ce6c814",
   "metadata": {
    "tags": []
   },
   "outputs": [],
   "source": [
    "df.state.replace({'Canceled': 'Failed'}, inplace = True)"
   ]
  },
  {
   "cell_type": "code",
   "execution_count": null,
   "id": "e6bf8b9f-54c6-4090-961c-02f854fe2c23",
   "metadata": {
    "tags": []
   },
   "outputs": [],
   "source": [
    "df.state.value_counts()"
   ]
  },
  {
   "cell_type": "code",
   "execution_count": null,
   "id": "913c07e1-0c76-46f4-abff-42dc59f50996",
   "metadata": {
    "tags": []
   },
   "outputs": [],
   "source": [
    "df.columns"
   ]
  },
  {
   "cell_type": "code",
   "execution_count": null,
   "id": "daa047c9-f174-4e5b-8564-6b00fb72c850",
   "metadata": {
    "tags": []
   },
   "outputs": [],
   "source": [
    "# Define feature and target variable\n",
    "X = df[['goal', 'duration', 'launch_month', 'category_encoded', 'subcategory_encoded', 'country_encoded']]\n",
    "y = df['pledged']\n",
    "\n",
    "X.shape"
   ]
  }
 ],
 "metadata": {
  "kernelspec": {
   "display_name": "Python 3 (ipykernel)",
   "language": "python",
   "name": "python3"
  },
  "language_info": {
   "codemirror_mode": {
    "name": "ipython",
    "version": 3
   },
   "file_extension": ".py",
   "mimetype": "text/x-python",
   "name": "python",
   "nbconvert_exporter": "python",
   "pygments_lexer": "ipython3",
   "version": "3.11.3"
  }
 },
 "nbformat": 4,
 "nbformat_minor": 5
}
