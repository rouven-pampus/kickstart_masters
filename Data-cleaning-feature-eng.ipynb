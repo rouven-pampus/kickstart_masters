{
 "cells": [
  {
   "cell_type": "markdown",
   "metadata": {},
   "source": [
    "## Data Cleaning & Feature Engineering liliya.chvileva@gmail.com\n",
    "lowercases for column names\n",
    "drop: id, name, state: suspended + goal == 0,\n",
    "features: create duration from launch and end data (datatype conversion)\n"
   ]
  },
  {
   "cell_type": "code",
   "execution_count": 1,
   "metadata": {},
   "outputs": [],
   "source": [
    "# Import necessary libraries\n",
    "import pandas as pd\n",
    "import matplotlib.pyplot as plt\n",
    "import seaborn as sns"
   ]
  },
  {
   "cell_type": "code",
   "execution_count": 2,
   "metadata": {},
   "outputs": [],
   "source": [
    "# Load the dataset\n",
    "df = pd.read_csv('data/kickstarter_projects.csv')\n"
   ]
  },
  {
   "cell_type": "markdown",
   "metadata": {},
   "source": [
    "# Lowercases for column names\n"
   ]
  },
  {
   "cell_type": "code",
   "execution_count": 3,
   "metadata": {},
   "outputs": [],
   "source": [
    "# Convert column names to lowercase\n",
    "df.columns = df.columns.str.lower()"
   ]
  },
  {
   "cell_type": "code",
   "execution_count": 4,
   "metadata": {},
   "outputs": [
    {
     "name": "stdout",
     "output_type": "stream",
     "text": [
      "           id                                               name   \n",
      "0  1860890148  Grace Jones Does Not Give A F$#% T-Shirt (limi...  \\\n",
      "1   709707365                     CRYSTAL ANTLERS UNTITLED MOVIE   \n",
      "2  1703704063                                drawing for dollars   \n",
      "3      727286                       Offline Wikipedia iPhone app   \n",
      "4  1622952265                                         Pantshirts   \n",
      "\n",
      "       category   subcategory        country             launched    deadline   \n",
      "0       Fashion       Fashion  United States  2009-04-21 21:02:48  2009-05-31  \\\n",
      "1  Film & Video        Shorts  United States  2009-04-23 00:07:53  2009-07-20   \n",
      "2           Art  Illustration  United States  2009-04-24 21:52:03  2009-05-03   \n",
      "3    Technology      Software  United States  2009-04-25 17:36:21  2009-07-14   \n",
      "4       Fashion       Fashion  United States  2009-04-27 14:10:39  2009-05-26   \n",
      "\n",
      "    goal  pledged  backers       state  \n",
      "0   1000      625       30      Failed  \n",
      "1  80000       22        3      Failed  \n",
      "2     20       35        3  Successful  \n",
      "3     99      145       25  Successful  \n",
      "4   1900      387       10      Failed  \n"
     ]
    }
   ],
   "source": [
    "# Display the first few rows of the dataframe to understand its structure\n",
    "print(df.head())"
   ]
  },
  {
   "cell_type": "markdown",
   "metadata": {},
   "source": [
    "# New DataFrame for droped: id, name, state: suspended + goal == 0 and creating a new feauture \"duration\" of each project"
   ]
  },
  {
   "cell_type": "code",
   "execution_count": 13,
   "metadata": {
    "tags": []
   },
   "outputs": [],
   "source": [
    "\n",
    "\n",
    "# Drop variables 'id', 'name', and rows where 'state' is 'suspended' or 'goal' is 0\n",
    "dropped_df = df.drop(columns=['id', 'name']).loc[(df['state'] != 'suspended') & (df['goal'] != 0)]\n",
    "\n",
    "# Convert 'launched' and 'deadline' columns to datetime\n",
    "dropped_df['launched'] = pd.to_datetime(dropped_df['launched'])\n",
    "dropped_df['deadline'] = pd.to_datetime(dropped_df['deadline'])\n",
    "\n",
    "# Calculate the duration in days\n",
    "dropped_df['duration'] = (dropped_df['deadline'] - dropped_df['launched']).dt.days\n",
    "\n",
    "# Save the modified DataFrame to a CSV file in the 'data' folder\n",
    "dropped_df.to_csv('data/modified_kickstarter_projects.csv', index=False)\n",
    "\n"
   ]
  },
  {
   "cell_type": "code",
   "execution_count": 14,
   "metadata": {
    "tags": []
   },
   "outputs": [
    {
     "name": "stdout",
     "output_type": "stream",
     "text": [
      "       category   subcategory        country            launched   deadline   \n",
      "0       Fashion       Fashion  United States 2009-04-21 21:02:48 2009-05-31  \\\n",
      "1  Film & Video        Shorts  United States 2009-04-23 00:07:53 2009-07-20   \n",
      "2           Art  Illustration  United States 2009-04-24 21:52:03 2009-05-03   \n",
      "3    Technology      Software  United States 2009-04-25 17:36:21 2009-07-14   \n",
      "4       Fashion       Fashion  United States 2009-04-27 14:10:39 2009-05-26   \n",
      "\n",
      "    goal  pledged  backers       state  duration  \n",
      "0   1000      625       30      Failed        39  \n",
      "1  80000       22        3      Failed        87  \n",
      "2     20       35        3  Successful         8  \n",
      "3     99      145       25  Successful        79  \n",
      "4   1900      387       10      Failed        28  \n"
     ]
    }
   ],
   "source": [
    "print(dropped_df.head())"
   ]
  },
  {
   "cell_type": "markdown",
   "metadata": {},
   "source": [
    "# Trying label encoding"
   ]
  },
  {
   "cell_type": "code",
   "execution_count": 18,
   "metadata": {},
   "outputs": [],
   "source": [
    "# Trying label encoding\n",
    "columns_to_encode = df[['category', 'subcategory', 'country']]\n",
    "# Initialize LabelEncoder\n",
    "label_encoder = LabelEncoder()\n",
    "# Apply LabelEncoder to each categorical column\n",
    "for col in dropped_df:\n",
    "    df[col + '_encoded'] = label_encoder.fit_transform(df[col])"
   ]
  },
  {
   "cell_type": "code",
   "execution_count": 6,
   "metadata": {},
   "outputs": [
    {
     "name": "stdout",
     "output_type": "stream",
     "text": [
      "\n",
      "category:\n",
      "\n",
      "   category_Original  category_Encoded\n",
      "0            Fashion                 5\n",
      "1       Film & Video                 6\n",
      "2                Art                 0\n",
      "3         Technology                13\n",
      "4         Journalism                 9\n",
      "5         Publishing                12\n",
      "6            Theater                14\n",
      "7              Music                10\n",
      "8        Photography                11\n",
      "9              Games                 8\n",
      "10            Design                 4\n",
      "11              Food                 7\n",
      "12            Crafts                 2\n",
      "13            Comics                 1\n",
      "14             Dance                 3\n",
      "\n",
      "subcategory:\n",
      "\n",
      "    subcategory_Original  subcategory_Encoded\n",
      "0                Fashion                   52\n",
      "1                 Shorts                  129\n",
      "2           Illustration                   70\n",
      "3               Software                  131\n",
      "4             Journalism                   77\n",
      "..                   ...                  ...\n",
      "154        Playing Cards                  106\n",
      "155         Mobile Games                   88\n",
      "156            Taxidermy                  137\n",
      "157                Print                  111\n",
      "158      Literary Spaces                   83\n",
      "\n",
      "[159 rows x 2 columns]\n",
      "\n",
      "country:\n",
      "\n",
      "   country_Original  country_Encoded\n",
      "0     United States               21\n",
      "1    United Kingdom               20\n",
      "2            Canada                3\n",
      "3         Australia                0\n",
      "4       New Zealand               14\n",
      "5      Netherlands                13\n",
      "6            Sweden               18\n",
      "7           Denmark                4\n",
      "8            Norway               15\n",
      "9           Ireland                8\n",
      "10          Germany                6\n",
      "11           France                5\n",
      "12            Spain               17\n",
      "13          Belgium                2\n",
      "14            Italy                9\n",
      "15      Switzerland               19\n",
      "16          Austria                1\n",
      "17       Luxembourg               11\n",
      "18        Singapore               16\n",
      "19        Hong Kong                7\n",
      "20           Mexico               12\n",
      "21            Japan               10\n"
     ]
    }
   ],
   "source": [
    "# Create a DataFrame to store unique original values and their corresponding encoded values for each column\n",
    "encoded_values_dfs = {}\n",
    "# Iterate through the columns to be encoded\n",
    "for col in columns_to_encode:\n",
    "    # Get unique values of the original column and their corresponding encoded values\n",
    "    unique_original_values = df[col].unique()\n",
    "    encoded_values = label_encoder.fit_transform(unique_original_values)\n",
    "    # Create a DataFrame with original and encoded values\n",
    "    encoded_values_df = pd.DataFrame({\n",
    "        f'{col}_Original': unique_original_values,\n",
    "        f'{col}_Encoded': encoded_values\n",
    "    })\n",
    "    # Sort the DataFrame by the encoded values (for 'Category' column)\n",
    "    if col == 'Category':\n",
    "        encoded_values_df = encoded_values_df.sort_values(by=f'{col}_Encoded', ascending=True)\n",
    "    # Store the DataFrame in the dictionary\n",
    "    encoded_values_dfs[col] = encoded_values_df\n",
    "# Display the DataFrames\n",
    "for col, encoded_values_df in encoded_values_dfs.items():\n",
    "    print(f'\\n{col}:\\n')\n",
    "    print(encoded_values_df)"
   ]
  },
  {
   "cell_type": "code",
   "execution_count": 7,
   "metadata": {},
   "outputs": [],
   "source": [
    "#save new table\n",
    "\n",
    "encoded_values_df.to_csv('data/encoded_kickstarter_projects.csv', index=False)"
   ]
  }
 ],
 "metadata": {
  "kernelspec": {
   "display_name": "Python 3 (ipykernel)",
   "language": "python",
   "name": "python3"
  },
  "language_info": {
   "codemirror_mode": {
    "name": "ipython",
    "version": 3
   },
   "file_extension": ".py",
   "mimetype": "text/x-python",
   "name": "python",
   "nbconvert_exporter": "python",
   "pygments_lexer": "ipython3",
   "version": "3.11.3"
  }
 },
 "nbformat": 4,
 "nbformat_minor": 4
}
