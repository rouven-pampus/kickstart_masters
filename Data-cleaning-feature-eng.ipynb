{
 "cells": [
  {
   "cell_type": "markdown",
   "metadata": {},
   "source": [
    "## Data Cleaning & Feature Engineering liliya.chvileva@gmail.com\n",
    "lowercases for column names\n",
    "drop: id, name, state: suspended + goal == 0,\n",
    "features: create duration from launch and end data (datatype conversion)\n"
   ]
  },
  {
   "cell_type": "code",
   "execution_count": 1,
   "metadata": {},
   "outputs": [],
   "source": [
    "# Import necessary libraries\n",
    "import pandas as pd\n",
    "import matplotlib.pyplot as plt\n",
    "import seaborn as sns"
   ]
  },
  {
   "cell_type": "code",
   "execution_count": 2,
   "metadata": {},
   "outputs": [],
   "source": [
    "# Load the dataset\n",
    "df = pd.read_csv('data/kickstarter_projects.csv')\n"
   ]
  },
  {
   "cell_type": "markdown",
   "metadata": {},
   "source": [
    "# Lowercases for column names\n"
   ]
  },
  {
   "cell_type": "code",
   "execution_count": 3,
   "metadata": {},
   "outputs": [],
   "source": [
    "# Convert column names to lowercase\n",
    "df.columns = df.columns.str.lower()"
   ]
  },
  {
   "cell_type": "code",
   "execution_count": 4,
   "metadata": {},
   "outputs": [
    {
     "name": "stdout",
     "output_type": "stream",
     "text": [
      "           id                                               name   \n",
      "0  1860890148  Grace Jones Does Not Give A F$#% T-Shirt (limi...  \\\n",
      "1   709707365                     CRYSTAL ANTLERS UNTITLED MOVIE   \n",
      "2  1703704063                                drawing for dollars   \n",
      "3      727286                       Offline Wikipedia iPhone app   \n",
      "4  1622952265                                         Pantshirts   \n",
      "\n",
      "       category   subcategory        country             launched    deadline   \n",
      "0       Fashion       Fashion  United States  2009-04-21 21:02:48  2009-05-31  \\\n",
      "1  Film & Video        Shorts  United States  2009-04-23 00:07:53  2009-07-20   \n",
      "2           Art  Illustration  United States  2009-04-24 21:52:03  2009-05-03   \n",
      "3    Technology      Software  United States  2009-04-25 17:36:21  2009-07-14   \n",
      "4       Fashion       Fashion  United States  2009-04-27 14:10:39  2009-05-26   \n",
      "\n",
      "    goal  pledged  backers       state  \n",
      "0   1000      625       30      Failed  \n",
      "1  80000       22        3      Failed  \n",
      "2     20       35        3  Successful  \n",
      "3     99      145       25  Successful  \n",
      "4   1900      387       10      Failed  \n"
     ]
    }
   ],
   "source": [
    "# Display the first few rows of the dataframe to understand its structure\n",
    "print(df.head())"
   ]
  },
  {
   "cell_type": "markdown",
   "metadata": {},
   "source": [
    "# New DataFrame for droped: id, name, state: suspended + goal == 0"
   ]
  },
  {
   "cell_type": "code",
   "execution_count": 5,
   "metadata": {},
   "outputs": [
    {
     "name": "stdout",
     "output_type": "stream",
     "text": [
      "       category   subcategory        country             launched    deadline   \n",
      "0       Fashion       Fashion  United States  2009-04-21 21:02:48  2009-05-31  \\\n",
      "1  Film & Video        Shorts  United States  2009-04-23 00:07:53  2009-07-20   \n",
      "2           Art  Illustration  United States  2009-04-24 21:52:03  2009-05-03   \n",
      "3    Technology      Software  United States  2009-04-25 17:36:21  2009-07-14   \n",
      "4       Fashion       Fashion  United States  2009-04-27 14:10:39  2009-05-26   \n",
      "\n",
      "    goal  pledged  backers  \n",
      "0   1000      625       30  \n",
      "1  80000       22        3  \n",
      "2     20       35        3  \n",
      "3     99      145       25  \n",
      "4   1900      387       10  \n"
     ]
    }
   ],
   "source": [
    "# Filter rows where state is not \"suspended\" and goal is not 0\n",
    "filtered_df = df[(df['state'] != 'Suspended') & (df['goal'] != 0)]\n",
    "\n",
    "# Drop the specified columns and rename the DataFrame\n",
    "dropped_df = filtered_df.drop(columns=['id', 'name', 'state'])\n",
    "\n",
    "# Display the first few rows of the filtered DataFrame\n",
    "print(dropped_df.head())\n"
   ]
  },
  {
   "cell_type": "markdown",
   "metadata": {},
   "source": [
    "# Duration of each project"
   ]
  },
  {
   "cell_type": "code",
   "execution_count": 6,
   "metadata": {},
   "outputs": [
    {
     "name": "stdout",
     "output_type": "stream",
     "text": [
      "             launched   deadline  duration\n",
      "0 2009-04-21 21:02:48 2009-05-31        39\n",
      "1 2009-04-23 00:07:53 2009-07-20        87\n",
      "2 2009-04-24 21:52:03 2009-05-03         8\n",
      "3 2009-04-25 17:36:21 2009-07-14        79\n",
      "4 2009-04-27 14:10:39 2009-05-26        28\n"
     ]
    }
   ],
   "source": [
    "# Convert 'launched' and 'deadline' columns to datetime format\n",
    "df['launched'] = pd.to_datetime(df['launched'])\n",
    "df['deadline'] = pd.to_datetime(df['deadline'])\n",
    "\n",
    "# Calculate the duration of each project\n",
    "df['duration'] = (df['deadline'] - df['launched']).dt.days\n",
    "\n",
    "# Display the first few rows of the DataFrame with the new 'duration' feature\n",
    "print(df[['launched', 'deadline', 'duration']].head())\n"
   ]
  },
  {
   "cell_type": "code",
   "execution_count": 7,
   "metadata": {},
   "outputs": [],
   "source": [
    "# save a new csv file to data\n",
    "\n",
    "df.to_csv('data/modified_kickstarter_projects.csv', index=False)"
   ]
  }
 ],
 "metadata": {
  "kernelspec": {
   "display_name": "Python 3",
   "language": "python",
   "name": "python3"
  },
  "language_info": {
   "codemirror_mode": {
    "name": "ipython",
    "version": 3
   },
   "file_extension": ".py",
   "mimetype": "text/x-python",
   "name": "python",
   "nbconvert_exporter": "python",
   "pygments_lexer": "ipython3",
   "version": "3.11.3"
  }
 },
 "nbformat": 4,
 "nbformat_minor": 4
}
