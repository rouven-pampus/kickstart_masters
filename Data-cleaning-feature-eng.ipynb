{
 "cells": [
  {
   "cell_type": "markdown",
   "metadata": {},
   "source": [
    "## Data Cleaning & Feature Engineering liliya.chvileva@gmail.com\n",
    "lowercases for column names\n",
    "drop: id, name, state: suspended + goal == 0,\n",
    "features: create duration from launch and end data (datatype conversion)\n"
   ]
  },
  {
   "cell_type": "code",
   "execution_count": 10,
   "metadata": {},
   "outputs": [],
   "source": [
    "# Import necessary libraries\n",
    "import pandas as pd\n",
    "import matplotlib.pyplot as plt\n",
    "import seaborn as sns"
   ]
  },
  {
   "cell_type": "code",
   "execution_count": 2,
   "metadata": {},
   "outputs": [],
   "source": [
    "# Load the dataset\n",
    "df = pd.read_csv('data/kickstarter_projects.csv')\n"
   ]
  },
  {
   "cell_type": "markdown",
   "metadata": {},
   "source": [
    "# Lowercases for column names\n"
   ]
  },
  {
   "cell_type": "code",
   "execution_count": 3,
   "metadata": {},
   "outputs": [],
   "source": [
    "# Convert column names to lowercase\n",
    "df.columns = df.columns.str.lower()"
   ]
  },
  {
   "cell_type": "code",
   "execution_count": 4,
   "metadata": {},
   "outputs": [
    {
     "name": "stdout",
     "output_type": "stream",
     "text": [
      "           id                                               name   \n",
      "0  1860890148  Grace Jones Does Not Give A F$#% T-Shirt (limi...  \\\n",
      "1   709707365                     CRYSTAL ANTLERS UNTITLED MOVIE   \n",
      "2  1703704063                                drawing for dollars   \n",
      "3      727286                       Offline Wikipedia iPhone app   \n",
      "4  1622952265                                         Pantshirts   \n",
      "\n",
      "       category   subcategory        country             launched    deadline   \n",
      "0       Fashion       Fashion  United States  2009-04-21 21:02:48  2009-05-31  \\\n",
      "1  Film & Video        Shorts  United States  2009-04-23 00:07:53  2009-07-20   \n",
      "2           Art  Illustration  United States  2009-04-24 21:52:03  2009-05-03   \n",
      "3    Technology      Software  United States  2009-04-25 17:36:21  2009-07-14   \n",
      "4       Fashion       Fashion  United States  2009-04-27 14:10:39  2009-05-26   \n",
      "\n",
      "    goal  pledged  backers       state  \n",
      "0   1000      625       30      Failed  \n",
      "1  80000       22        3      Failed  \n",
      "2     20       35        3  Successful  \n",
      "3     99      145       25  Successful  \n",
      "4   1900      387       10      Failed  \n"
     ]
    }
   ],
   "source": [
    "# Display the first few rows of the dataframe to understand its structure\n",
    "print(df.head())"
   ]
  },
  {
   "cell_type": "markdown",
   "metadata": {},
   "source": [
    "# New DataFrame for droped: id, name, state: suspended + goal == 0 and creating a new feauture \"duration\" of each project"
   ]
  },
  {
   "cell_type": "code",
   "execution_count": 8,
   "metadata": {
    "tags": []
   },
   "outputs": [],
   "source": [
    "\n",
    "\n",
    "# Drop variables 'id', 'name', and rows where 'state' is 'suspended' or 'goal' is 0\n",
    "dropped_df = df.drop(columns=['id', 'name']).loc[(df['state'] != 'suspended') & (df['goal'] != 0)]\n",
    "\n",
    "# Convert 'launched' and 'deadline' columns to datetime\n",
    "dropped_df['launched'] = pd.to_datetime(dropped_df['launched'])\n",
    "dropped_df['deadline'] = pd.to_datetime(dropped_df['deadline'])\n",
    "\n",
    "# Calculate the duration in days\n",
    "dropped_df['duration'] = (dropped_df['deadline'] - dropped_df['launched']).dt.days\n",
    "\n",
    "# Save the modified DataFrame to a CSV file in the 'data' folder\n",
    "dropped_df.to_csv('data/modified_kickstarter_projects.csv', index=False)\n",
    "\n"
   ]
  },
  {
   "cell_type": "code",
   "execution_count": 9,
   "metadata": {
    "tags": []
   },
   "outputs": [
    {
     "name": "stdout",
     "output_type": "stream",
     "text": [
      "       category   subcategory        country            launched   deadline   \n",
      "0       Fashion       Fashion  United States 2009-04-21 21:02:48 2009-05-31  \\\n",
      "1  Film & Video        Shorts  United States 2009-04-23 00:07:53 2009-07-20   \n",
      "2           Art  Illustration  United States 2009-04-24 21:52:03 2009-05-03   \n",
      "3    Technology      Software  United States 2009-04-25 17:36:21 2009-07-14   \n",
      "4       Fashion       Fashion  United States 2009-04-27 14:10:39 2009-05-26   \n",
      "\n",
      "    goal  pledged  backers       state  duration  \n",
      "0   1000      625       30      Failed        39  \n",
      "1  80000       22        3      Failed        87  \n",
      "2     20       35        3  Successful         8  \n",
      "3     99      145       25  Successful        79  \n",
      "4   1900      387       10      Failed        28  \n"
     ]
    }
   ],
   "source": [
    "print(dropped_df.head())"
   ]
  },
  {
   "cell_type": "code",
   "execution_count": null,
   "metadata": {},
   "outputs": [],
   "source": []
  }
 ],
 "metadata": {
  "kernelspec": {
   "display_name": "Python 3 (ipykernel)",
   "language": "python",
   "name": "python3"
  },
  "language_info": {
   "codemirror_mode": {
    "name": "ipython",
    "version": 3
   },
   "file_extension": ".py",
   "mimetype": "text/x-python",
   "name": "python",
   "nbconvert_exporter": "python",
   "pygments_lexer": "ipython3",
   "version": "3.11.3"
  }
 },
 "nbformat": 4,
 "nbformat_minor": 4
}
