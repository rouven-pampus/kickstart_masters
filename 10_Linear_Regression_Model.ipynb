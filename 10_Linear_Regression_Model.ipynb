{
 "cells": [
  {
   "cell_type": "code",
   "execution_count": 1,
   "id": "22ff848d-631b-4847-8668-1d021e9389ee",
   "metadata": {
    "tags": []
   },
   "outputs": [],
   "source": [
    "import pandas as pd\n",
    "from sklearn.model_selection import train_test_split\n",
    "from sklearn.preprocessing import StandardScaler\n",
    "from sklearn.linear_model import LinearRegression\n",
    "from sklearn.metrics import mean_squared_error\n",
    "from sklearn.metrics import r2_score\n",
    "\n",
    "import numpy as np\n",
    "import matplotlib.pyplot as plt\n",
    "import seaborn as sns"
   ]
  },
  {
   "cell_type": "code",
   "execution_count": 2,
   "id": "9294d79c-51bb-45b5-bfe3-b49ce5af13c9",
   "metadata": {
    "tags": []
   },
   "outputs": [
    {
     "data": {
      "text/html": [
       "<div>\n",
       "<style scoped>\n",
       "    .dataframe tbody tr th:only-of-type {\n",
       "        vertical-align: middle;\n",
       "    }\n",
       "\n",
       "    .dataframe tbody tr th {\n",
       "        vertical-align: top;\n",
       "    }\n",
       "\n",
       "    .dataframe thead th {\n",
       "        text-align: right;\n",
       "    }\n",
       "</style>\n",
       "<table border=\"1\" class=\"dataframe\">\n",
       "  <thead>\n",
       "    <tr style=\"text-align: right;\">\n",
       "      <th></th>\n",
       "      <th>category</th>\n",
       "      <th>subcategory</th>\n",
       "      <th>country</th>\n",
       "      <th>launched</th>\n",
       "      <th>deadline</th>\n",
       "      <th>goal</th>\n",
       "      <th>pledged</th>\n",
       "      <th>backers</th>\n",
       "      <th>state</th>\n",
       "      <th>duration</th>\n",
       "      <th>launch_month</th>\n",
       "      <th>category_encoded</th>\n",
       "      <th>subcategory_encoded</th>\n",
       "      <th>country_encoded</th>\n",
       "    </tr>\n",
       "  </thead>\n",
       "  <tbody>\n",
       "    <tr>\n",
       "      <th>0</th>\n",
       "      <td>Fashion</td>\n",
       "      <td>Fashion</td>\n",
       "      <td>United States</td>\n",
       "      <td>2009-04-21 21:02:48</td>\n",
       "      <td>2009-05-31</td>\n",
       "      <td>1000</td>\n",
       "      <td>625</td>\n",
       "      <td>30</td>\n",
       "      <td>Failed</td>\n",
       "      <td>39</td>\n",
       "      <td>4</td>\n",
       "      <td>5</td>\n",
       "      <td>52</td>\n",
       "      <td>21</td>\n",
       "    </tr>\n",
       "    <tr>\n",
       "      <th>1</th>\n",
       "      <td>Film &amp; Video</td>\n",
       "      <td>Shorts</td>\n",
       "      <td>United States</td>\n",
       "      <td>2009-04-23 00:07:53</td>\n",
       "      <td>2009-07-20</td>\n",
       "      <td>80000</td>\n",
       "      <td>22</td>\n",
       "      <td>3</td>\n",
       "      <td>Failed</td>\n",
       "      <td>87</td>\n",
       "      <td>4</td>\n",
       "      <td>6</td>\n",
       "      <td>129</td>\n",
       "      <td>21</td>\n",
       "    </tr>\n",
       "    <tr>\n",
       "      <th>2</th>\n",
       "      <td>Art</td>\n",
       "      <td>Illustration</td>\n",
       "      <td>United States</td>\n",
       "      <td>2009-04-24 21:52:03</td>\n",
       "      <td>2009-05-03</td>\n",
       "      <td>20</td>\n",
       "      <td>35</td>\n",
       "      <td>3</td>\n",
       "      <td>Successful</td>\n",
       "      <td>8</td>\n",
       "      <td>4</td>\n",
       "      <td>0</td>\n",
       "      <td>70</td>\n",
       "      <td>21</td>\n",
       "    </tr>\n",
       "    <tr>\n",
       "      <th>3</th>\n",
       "      <td>Technology</td>\n",
       "      <td>Software</td>\n",
       "      <td>United States</td>\n",
       "      <td>2009-04-25 17:36:21</td>\n",
       "      <td>2009-07-14</td>\n",
       "      <td>99</td>\n",
       "      <td>145</td>\n",
       "      <td>25</td>\n",
       "      <td>Successful</td>\n",
       "      <td>79</td>\n",
       "      <td>4</td>\n",
       "      <td>13</td>\n",
       "      <td>131</td>\n",
       "      <td>21</td>\n",
       "    </tr>\n",
       "    <tr>\n",
       "      <th>4</th>\n",
       "      <td>Fashion</td>\n",
       "      <td>Fashion</td>\n",
       "      <td>United States</td>\n",
       "      <td>2009-04-27 14:10:39</td>\n",
       "      <td>2009-05-26</td>\n",
       "      <td>1900</td>\n",
       "      <td>387</td>\n",
       "      <td>10</td>\n",
       "      <td>Failed</td>\n",
       "      <td>28</td>\n",
       "      <td>4</td>\n",
       "      <td>5</td>\n",
       "      <td>52</td>\n",
       "      <td>21</td>\n",
       "    </tr>\n",
       "  </tbody>\n",
       "</table>\n",
       "</div>"
      ],
      "text/plain": [
       "       category   subcategory        country             launched    deadline   \n",
       "0       Fashion       Fashion  United States  2009-04-21 21:02:48  2009-05-31  \\\n",
       "1  Film & Video        Shorts  United States  2009-04-23 00:07:53  2009-07-20   \n",
       "2           Art  Illustration  United States  2009-04-24 21:52:03  2009-05-03   \n",
       "3    Technology      Software  United States  2009-04-25 17:36:21  2009-07-14   \n",
       "4       Fashion       Fashion  United States  2009-04-27 14:10:39  2009-05-26   \n",
       "\n",
       "    goal  pledged  backers       state  duration  launch_month   \n",
       "0   1000      625       30      Failed        39             4  \\\n",
       "1  80000       22        3      Failed        87             4   \n",
       "2     20       35        3  Successful         8             4   \n",
       "3     99      145       25  Successful        79             4   \n",
       "4   1900      387       10      Failed        28             4   \n",
       "\n",
       "   category_encoded  subcategory_encoded  country_encoded  \n",
       "0                 5                   52               21  \n",
       "1                 6                  129               21  \n",
       "2                 0                   70               21  \n",
       "3                13                  131               21  \n",
       "4                 5                   52               21  "
      ]
     },
     "execution_count": 2,
     "metadata": {},
     "output_type": "execute_result"
    }
   ],
   "source": [
    "df = pd.read_csv('data/cleaned_encoded_kickstarter_projects.csv')\n",
    "df.head()"
   ]
  },
  {
   "cell_type": "code",
   "execution_count": null,
   "id": "913c07e1-0c76-46f4-abff-42dc59f50996",
   "metadata": {
    "tags": []
   },
   "outputs": [],
   "source": [
    "df.columns"
   ]
  },
  {
   "cell_type": "code",
   "execution_count": 25,
   "id": "c7f081ea-078c-4918-bee5-8ca9f4bed6e8",
   "metadata": {
    "tags": []
   },
   "outputs": [
    {
     "name": "stdout",
     "output_type": "stream",
     "text": [
      "<class 'pandas.core.frame.DataFrame'>\n",
      "RangeIndex: 370209 entries, 0 to 370208\n",
      "Data columns (total 14 columns):\n",
      " #   Column               Non-Null Count   Dtype \n",
      "---  ------               --------------   ----- \n",
      " 0   category             370209 non-null  object\n",
      " 1   subcategory          370209 non-null  object\n",
      " 2   country              370209 non-null  object\n",
      " 3   launched             370209 non-null  object\n",
      " 4   deadline             370209 non-null  object\n",
      " 5   goal                 370209 non-null  int64 \n",
      " 6   pledged              370209 non-null  int64 \n",
      " 7   backers              370209 non-null  int64 \n",
      " 8   state                370209 non-null  object\n",
      " 9   duration             370209 non-null  int64 \n",
      " 10  launch_month         370209 non-null  int64 \n",
      " 11  category_encoded     370209 non-null  int64 \n",
      " 12  subcategory_encoded  370209 non-null  int64 \n",
      " 13  country_encoded      370209 non-null  int64 \n",
      "dtypes: int64(8), object(6)\n",
      "memory usage: 39.5+ MB\n"
     ]
    }
   ],
   "source": [
    "df.info()"
   ]
  },
  {
   "cell_type": "code",
   "execution_count": 7,
   "id": "1fdf7ce7-3aaa-4dc6-9657-5f862ea6ca10",
   "metadata": {
    "tags": []
   },
   "outputs": [
    {
     "name": "stdout",
     "output_type": "stream",
     "text": [
      "               goal       pledged        backers       duration   \n",
      "count  3.702090e+05  3.702090e+05  370209.000000  370209.000000  \\\n",
      "mean   4.509281e+04  9.144729e+03     106.989822      33.168994   \n",
      "std    1.128632e+06  9.158248e+04     915.277662      12.784716   \n",
      "min    1.000000e+00  0.000000e+00       0.000000       0.000000   \n",
      "25%    2.000000e+03  3.200000e+01       2.000000      29.000000   \n",
      "50%    5.500000e+03  6.330000e+02      12.000000      29.000000   \n",
      "75%    1.598700e+04  4.076000e+03      57.000000      36.000000   \n",
      "max    1.663614e+08  2.033899e+07  219382.000000      91.000000   \n",
      "\n",
      "        launch_month  category_encoded  subcategory_encoded  country_encoded  \n",
      "count  370209.000000     370209.000000        370209.000000    370209.000000  \n",
      "mean        6.428031          7.492746            80.738124        19.040207  \n",
      "std         3.307246          3.914019            45.278376         5.257678  \n",
      "min         1.000000          0.000000             0.000000         0.000000  \n",
      "25%         4.000000          5.000000            39.000000        21.000000  \n",
      "50%         6.000000          7.000000            87.000000        21.000000  \n",
      "75%         9.000000         10.000000           121.000000        21.000000  \n",
      "max        12.000000         14.000000           158.000000        21.000000  \n"
     ]
    }
   ],
   "source": [
    "print(df.describe())"
   ]
  },
  {
   "cell_type": "code",
   "execution_count": 3,
   "id": "daa047c9-f174-4e5b-8564-6b00fb72c850",
   "metadata": {
    "tags": []
   },
   "outputs": [
    {
     "data": {
      "text/plain": [
       "(370209, 6)"
      ]
     },
     "execution_count": 3,
     "metadata": {},
     "output_type": "execute_result"
    }
   ],
   "source": [
    "# Define feature and target variable\n",
    "X = df[['goal', 'duration', 'launch_month', 'category_encoded', 'subcategory_encoded', 'country_encoded']]\n",
    "y = df['pledged']\n",
    "\n",
    "X.shape"
   ]
  },
  {
   "cell_type": "code",
   "execution_count": 4,
   "id": "b794e55a-e1b0-4fdb-9f05-670205a3ce0f",
   "metadata": {
    "tags": []
   },
   "outputs": [
    {
     "name": "stderr",
     "output_type": "stream",
     "text": [
      "C:\\Users\\vandi\\AppData\\Local\\Temp\\ipykernel_16196\\4170100939.py:2: SettingWithCopyWarning: \n",
      "A value is trying to be set on a copy of a slice from a DataFrame.\n",
      "Try using .loc[row_indexer,col_indexer] = value instead\n",
      "\n",
      "See the caveats in the documentation: https://pandas.pydata.org/pandas-docs/stable/user_guide/indexing.html#returning-a-view-versus-a-copy\n",
      "  X['goal'] = np.log1p(X['goal'])  # log1p is used to handle zero values\n"
     ]
    }
   ],
   "source": [
    "# Apply logarithmic transformation to 'goal' and 'pledged' columns\n",
    "X['goal'] = np.log1p(X['goal'])  # log1p is used to handle zero values\n",
    "y = np.log1p(y)"
   ]
  },
  {
   "cell_type": "code",
   "execution_count": 28,
   "id": "9709eb37-2d52-46c2-ab23-f900975ee9e9",
   "metadata": {
    "tags": []
   },
   "outputs": [
    {
     "data": {
      "text/plain": [
       "count    370209.000000\n",
       "mean          5.771424\n",
       "std           3.310949\n",
       "min           0.000000\n",
       "25%           3.496508\n",
       "50%           6.452049\n",
       "75%           8.313117\n",
       "max          16.828050\n",
       "Name: pledged, dtype: float64"
      ]
     },
     "execution_count": 28,
     "metadata": {},
     "output_type": "execute_result"
    }
   ],
   "source": [
    "y.describe()"
   ]
  },
  {
   "cell_type": "code",
   "execution_count": null,
   "id": "6d2ff7a0-5d55-42df-80af-409849084797",
   "metadata": {
    "tags": []
   },
   "outputs": [],
   "source": [
    "# Fit linear regression model\n",
    "lin_reg = LinearRegression()\n",
    "lin_reg.fit(X, y)\n",
    "\n",
    "# Calculate intercept and coefficient\n",
    "intercept = lin_reg.intercept_\n",
    "coefficients = lin_reg.coef_\n",
    "print(\"Intercept:\", intercept.round(5))\n",
    "print(\"Coefficients:\", coefficients.round(5))"
   ]
  },
  {
   "cell_type": "code",
   "execution_count": null,
   "id": "ff18c03a-5181-4592-9e11-845d4ff333a8",
   "metadata": {
    "tags": []
   },
   "outputs": [],
   "source": [
    "df[['goal', 'duration', 'launch_month', 'category_encoded', 'subcategory_encoded', 'country_encoded']].corr()"
   ]
  },
  {
   "cell_type": "code",
   "execution_count": null,
   "id": "827b9e37-a2aa-4912-8ea4-42bf473ba299",
   "metadata": {
    "tags": []
   },
   "outputs": [],
   "source": [
    "# Calculate r-squared \n",
    "y_hat = lin_reg.predict(X)\n",
    "print(\"R-squared:\", r2_score(y, y_hat).round(3))"
   ]
  },
  {
   "cell_type": "code",
   "execution_count": 20,
   "id": "b7a8adc2-efbb-46fc-8ff8-dfbcd0d8d55b",
   "metadata": {
    "tags": []
   },
   "outputs": [],
   "source": [
    "from sklearn.preprocessing import PolynomialFeatures\n",
    "\n",
    "# Create PolynomialFeatures object with interaction_only=True\n",
    "poly = PolynomialFeatures(degree=3, interaction_only=True, include_bias=False)\n",
    "\n",
    "# Fit and transform the data\n",
    "interaction_features = poly.fit_transform(X)\n",
    "\n",
    "# Create a new df with interaction features\n",
    "feature_names = poly.get_feature_names_out(input_features=X.columns)\n",
    "interaction_df = pd.DataFrame(interaction_features, columns=feature_names)"
   ]
  },
  {
   "cell_type": "code",
   "execution_count": 21,
   "id": "82483dbf-4235-4fa1-a4b6-ab2ec72121f9",
   "metadata": {
    "tags": []
   },
   "outputs": [],
   "source": [
    "# Split data into training and testing sets\n",
    "X_train, X_test, y_train, y_test = train_test_split(interaction_df, y, test_size=0.25, random_state=42)\n",
    "\n",
    "# Scale features\n",
    "scaler = StandardScaler()\n",
    "X_train_scaled = scaler.fit_transform(X_train)\n",
    "X_test_scaled = scaler.transform(X_test)"
   ]
  },
  {
   "cell_type": "code",
   "execution_count": 22,
   "id": "86ba7909-8a54-4fb3-8559-d70eb8dc04d4",
   "metadata": {
    "tags": []
   },
   "outputs": [
    {
     "data": {
      "text/html": [
       "<style>#sk-container-id-4 {color: black;background-color: white;}#sk-container-id-4 pre{padding: 0;}#sk-container-id-4 div.sk-toggleable {background-color: white;}#sk-container-id-4 label.sk-toggleable__label {cursor: pointer;display: block;width: 100%;margin-bottom: 0;padding: 0.3em;box-sizing: border-box;text-align: center;}#sk-container-id-4 label.sk-toggleable__label-arrow:before {content: \"▸\";float: left;margin-right: 0.25em;color: #696969;}#sk-container-id-4 label.sk-toggleable__label-arrow:hover:before {color: black;}#sk-container-id-4 div.sk-estimator:hover label.sk-toggleable__label-arrow:before {color: black;}#sk-container-id-4 div.sk-toggleable__content {max-height: 0;max-width: 0;overflow: hidden;text-align: left;background-color: #f0f8ff;}#sk-container-id-4 div.sk-toggleable__content pre {margin: 0.2em;color: black;border-radius: 0.25em;background-color: #f0f8ff;}#sk-container-id-4 input.sk-toggleable__control:checked~div.sk-toggleable__content {max-height: 200px;max-width: 100%;overflow: auto;}#sk-container-id-4 input.sk-toggleable__control:checked~label.sk-toggleable__label-arrow:before {content: \"▾\";}#sk-container-id-4 div.sk-estimator input.sk-toggleable__control:checked~label.sk-toggleable__label {background-color: #d4ebff;}#sk-container-id-4 div.sk-label input.sk-toggleable__control:checked~label.sk-toggleable__label {background-color: #d4ebff;}#sk-container-id-4 input.sk-hidden--visually {border: 0;clip: rect(1px 1px 1px 1px);clip: rect(1px, 1px, 1px, 1px);height: 1px;margin: -1px;overflow: hidden;padding: 0;position: absolute;width: 1px;}#sk-container-id-4 div.sk-estimator {font-family: monospace;background-color: #f0f8ff;border: 1px dotted black;border-radius: 0.25em;box-sizing: border-box;margin-bottom: 0.5em;}#sk-container-id-4 div.sk-estimator:hover {background-color: #d4ebff;}#sk-container-id-4 div.sk-parallel-item::after {content: \"\";width: 100%;border-bottom: 1px solid gray;flex-grow: 1;}#sk-container-id-4 div.sk-label:hover label.sk-toggleable__label {background-color: #d4ebff;}#sk-container-id-4 div.sk-serial::before {content: \"\";position: absolute;border-left: 1px solid gray;box-sizing: border-box;top: 0;bottom: 0;left: 50%;z-index: 0;}#sk-container-id-4 div.sk-serial {display: flex;flex-direction: column;align-items: center;background-color: white;padding-right: 0.2em;padding-left: 0.2em;position: relative;}#sk-container-id-4 div.sk-item {position: relative;z-index: 1;}#sk-container-id-4 div.sk-parallel {display: flex;align-items: stretch;justify-content: center;background-color: white;position: relative;}#sk-container-id-4 div.sk-item::before, #sk-container-id-4 div.sk-parallel-item::before {content: \"\";position: absolute;border-left: 1px solid gray;box-sizing: border-box;top: 0;bottom: 0;left: 50%;z-index: -1;}#sk-container-id-4 div.sk-parallel-item {display: flex;flex-direction: column;z-index: 1;position: relative;background-color: white;}#sk-container-id-4 div.sk-parallel-item:first-child::after {align-self: flex-end;width: 50%;}#sk-container-id-4 div.sk-parallel-item:last-child::after {align-self: flex-start;width: 50%;}#sk-container-id-4 div.sk-parallel-item:only-child::after {width: 0;}#sk-container-id-4 div.sk-dashed-wrapped {border: 1px dashed gray;margin: 0 0.4em 0.5em 0.4em;box-sizing: border-box;padding-bottom: 0.4em;background-color: white;}#sk-container-id-4 div.sk-label label {font-family: monospace;font-weight: bold;display: inline-block;line-height: 1.2em;}#sk-container-id-4 div.sk-label-container {text-align: center;}#sk-container-id-4 div.sk-container {/* jupyter's `normalize.less` sets `[hidden] { display: none; }` but bootstrap.min.css set `[hidden] { display: none !important; }` so we also need the `!important` here to be able to override the default hidden behavior on the sphinx rendered scikit-learn.org. See: https://github.com/scikit-learn/scikit-learn/issues/21755 */display: inline-block !important;position: relative;}#sk-container-id-4 div.sk-text-repr-fallback {display: none;}</style><div id=\"sk-container-id-4\" class=\"sk-top-container\"><div class=\"sk-text-repr-fallback\"><pre>LinearRegression()</pre><b>In a Jupyter environment, please rerun this cell to show the HTML representation or trust the notebook. <br />On GitHub, the HTML representation is unable to render, please try loading this page with nbviewer.org.</b></div><div class=\"sk-container\" hidden><div class=\"sk-item\"><div class=\"sk-estimator sk-toggleable\"><input class=\"sk-toggleable__control sk-hidden--visually\" id=\"sk-estimator-id-4\" type=\"checkbox\" checked><label for=\"sk-estimator-id-4\" class=\"sk-toggleable__label sk-toggleable__label-arrow\">LinearRegression</label><div class=\"sk-toggleable__content\"><pre>LinearRegression()</pre></div></div></div></div></div>"
      ],
      "text/plain": [
       "LinearRegression()"
      ]
     },
     "execution_count": 22,
     "metadata": {},
     "output_type": "execute_result"
    }
   ],
   "source": [
    "# Train the linear regression model\n",
    "model = LinearRegression()\n",
    "model.fit(X_train_scaled, y_train)"
   ]
  },
  {
   "cell_type": "code",
   "execution_count": 23,
   "id": "0747e83e-7295-4b16-ba18-cdeb1c2a96c6",
   "metadata": {
    "tags": []
   },
   "outputs": [
    {
     "name": "stdout",
     "output_type": "stream",
     "text": [
      "Mean Squared Error: 10.565134592148606\n",
      "Mean Squared Error (Original Scale): 7837402788.903474\n"
     ]
    }
   ],
   "source": [
    "# Make predictions\n",
    "y_pred = model.predict(X_test_scaled)\n",
    "\n",
    "# Evaluate the model\n",
    "mse = mean_squared_error(y_test, y_pred)\n",
    "print(f'Mean Squared Error: {mse}')\n",
    "\n",
    "# Inverse transform the predictions to the original scale\n",
    "y_pred_original_scale = np.expm1(y_pred)  # Inverse of log1p is expm1\n",
    "y_test_original_scale = np.expm1(y_test)\n",
    "\n",
    "# Evaluating the model with original target values\n",
    "mse_original_scale = mean_squared_error(y_test_original_scale, y_pred_original_scale)\n",
    "print(f'Mean Squared Error (Original Scale): {mse_original_scale}')"
   ]
  },
  {
   "cell_type": "code",
   "execution_count": null,
   "id": "621bbc44-7123-4c64-b2dc-27234211b954",
   "metadata": {},
   "outputs": [],
   "source": []
  },
  {
   "cell_type": "code",
   "execution_count": null,
   "id": "8f165702-e23a-4594-a501-9d2597093816",
   "metadata": {},
   "outputs": [],
   "source": []
  },
  {
   "cell_type": "code",
   "execution_count": null,
   "id": "0d7b14d7-090a-4f0b-b470-383899fb8dc8",
   "metadata": {},
   "outputs": [],
   "source": []
  },
  {
   "cell_type": "code",
   "execution_count": null,
   "id": "ab7f2cd7-e25a-4e43-a25e-b2e0ef6b3fdb",
   "metadata": {},
   "outputs": [],
   "source": []
  },
  {
   "cell_type": "code",
   "execution_count": null,
   "id": "f52d3448-9233-4cfa-95eb-ce1199c0bd44",
   "metadata": {},
   "outputs": [],
   "source": []
  },
  {
   "cell_type": "code",
   "execution_count": null,
   "id": "9c8fc5d0-c6af-4c03-a0d3-3d0d24a6f4b8",
   "metadata": {},
   "outputs": [],
   "source": []
  },
  {
   "cell_type": "code",
   "execution_count": null,
   "id": "e4205915-202a-4971-811e-b7015b2cf6ea",
   "metadata": {},
   "outputs": [],
   "source": []
  },
  {
   "cell_type": "code",
   "execution_count": null,
   "id": "28f161fc-7765-4700-bbf3-648250dcbec3",
   "metadata": {},
   "outputs": [],
   "source": []
  },
  {
   "cell_type": "code",
   "execution_count": null,
   "id": "e03195fe-8f7a-4aec-8f2e-c1dedaf079f3",
   "metadata": {},
   "outputs": [],
   "source": []
  },
  {
   "cell_type": "code",
   "execution_count": null,
   "id": "f916ce67-ce53-49f1-875d-d8c1f8001e2f",
   "metadata": {},
   "outputs": [],
   "source": []
  }
 ],
 "metadata": {
  "kernelspec": {
   "display_name": "Python 3 (ipykernel)",
   "language": "python",
   "name": "python3"
  },
  "language_info": {
   "codemirror_mode": {
    "name": "ipython",
    "version": 3
   },
   "file_extension": ".py",
   "mimetype": "text/x-python",
   "name": "python",
   "nbconvert_exporter": "python",
   "pygments_lexer": "ipython3",
   "version": "3.11.3"
  }
 },
 "nbformat": 4,
 "nbformat_minor": 5
}
