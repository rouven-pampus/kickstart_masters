{
 "cells": [
  {
   "cell_type": "code",
   "execution_count": 1,
   "id": "85bf68d6-e2a9-4ad6-949d-61f4d70a37a6",
   "metadata": {
    "tags": []
   },
   "outputs": [
    {
     "data": {
      "text/html": [
       "<div>\n",
       "<style scoped>\n",
       "    .dataframe tbody tr th:only-of-type {\n",
       "        vertical-align: middle;\n",
       "    }\n",
       "\n",
       "    .dataframe tbody tr th {\n",
       "        vertical-align: top;\n",
       "    }\n",
       "\n",
       "    .dataframe thead th {\n",
       "        text-align: right;\n",
       "    }\n",
       "</style>\n",
       "<table border=\"1\" class=\"dataframe\">\n",
       "  <thead>\n",
       "    <tr style=\"text-align: right;\">\n",
       "      <th></th>\n",
       "      <th>category</th>\n",
       "      <th>subcategory</th>\n",
       "      <th>country</th>\n",
       "      <th>launched</th>\n",
       "      <th>deadline</th>\n",
       "      <th>goal</th>\n",
       "      <th>pledged</th>\n",
       "      <th>backers</th>\n",
       "      <th>state</th>\n",
       "      <th>duration</th>\n",
       "      <th>launch_month</th>\n",
       "    </tr>\n",
       "  </thead>\n",
       "  <tbody>\n",
       "    <tr>\n",
       "      <th>0</th>\n",
       "      <td>Fashion</td>\n",
       "      <td>Fashion</td>\n",
       "      <td>United States</td>\n",
       "      <td>2009-04-21 21:02:48</td>\n",
       "      <td>2009-05-31</td>\n",
       "      <td>1000</td>\n",
       "      <td>625</td>\n",
       "      <td>30</td>\n",
       "      <td>Failed</td>\n",
       "      <td>39</td>\n",
       "      <td>4</td>\n",
       "    </tr>\n",
       "    <tr>\n",
       "      <th>1</th>\n",
       "      <td>Film &amp; Video</td>\n",
       "      <td>Shorts</td>\n",
       "      <td>United States</td>\n",
       "      <td>2009-04-23 00:07:53</td>\n",
       "      <td>2009-07-20</td>\n",
       "      <td>80000</td>\n",
       "      <td>22</td>\n",
       "      <td>3</td>\n",
       "      <td>Failed</td>\n",
       "      <td>87</td>\n",
       "      <td>4</td>\n",
       "    </tr>\n",
       "    <tr>\n",
       "      <th>2</th>\n",
       "      <td>Art</td>\n",
       "      <td>Illustration</td>\n",
       "      <td>United States</td>\n",
       "      <td>2009-04-24 21:52:03</td>\n",
       "      <td>2009-05-03</td>\n",
       "      <td>20</td>\n",
       "      <td>35</td>\n",
       "      <td>3</td>\n",
       "      <td>Successful</td>\n",
       "      <td>8</td>\n",
       "      <td>4</td>\n",
       "    </tr>\n",
       "    <tr>\n",
       "      <th>3</th>\n",
       "      <td>Technology</td>\n",
       "      <td>Software</td>\n",
       "      <td>United States</td>\n",
       "      <td>2009-04-25 17:36:21</td>\n",
       "      <td>2009-07-14</td>\n",
       "      <td>99</td>\n",
       "      <td>145</td>\n",
       "      <td>25</td>\n",
       "      <td>Successful</td>\n",
       "      <td>79</td>\n",
       "      <td>4</td>\n",
       "    </tr>\n",
       "    <tr>\n",
       "      <th>4</th>\n",
       "      <td>Fashion</td>\n",
       "      <td>Fashion</td>\n",
       "      <td>United States</td>\n",
       "      <td>2009-04-27 14:10:39</td>\n",
       "      <td>2009-05-26</td>\n",
       "      <td>1900</td>\n",
       "      <td>387</td>\n",
       "      <td>10</td>\n",
       "      <td>Failed</td>\n",
       "      <td>28</td>\n",
       "      <td>4</td>\n",
       "    </tr>\n",
       "  </tbody>\n",
       "</table>\n",
       "</div>"
      ],
      "text/plain": [
       "       category   subcategory        country            launched   deadline   \n",
       "0       Fashion       Fashion  United States 2009-04-21 21:02:48 2009-05-31  \\\n",
       "1  Film & Video        Shorts  United States 2009-04-23 00:07:53 2009-07-20   \n",
       "2           Art  Illustration  United States 2009-04-24 21:52:03 2009-05-03   \n",
       "3    Technology      Software  United States 2009-04-25 17:36:21 2009-07-14   \n",
       "4       Fashion       Fashion  United States 2009-04-27 14:10:39 2009-05-26   \n",
       "\n",
       "    goal  pledged  backers       state  duration  launch_month  \n",
       "0   1000      625       30      Failed        39             4  \n",
       "1  80000       22        3      Failed        87             4  \n",
       "2     20       35        3  Successful         8             4  \n",
       "3     99      145       25  Successful        79             4  \n",
       "4   1900      387       10      Failed        28             4  "
      ]
     },
     "execution_count": 1,
     "metadata": {},
     "output_type": "execute_result"
    }
   ],
   "source": [
    "import pandas as pd\n",
    "\n",
    "# Load the dataset\n",
    "df = pd.read_csv('data/kickstarter_projects.csv')\n",
    "\n",
    "# Convert column names to lowercase\n",
    "df.columns = df.columns.str.lower()\n",
    "\n",
    "# Drop variables 'id', 'name', and rows where 'state' is 'suspended' or 'goal' is 0\n",
    "dropped_df = df.drop(columns=['id', 'name'])\n",
    "dropped_df = dropped_df.drop(df[df.state == 'Live'].index)\n",
    "dropped_df = dropped_df.drop(df[df.state == 'Suspended'].index)\n",
    "dropped_df = dropped_df.drop(df[df.goal == 0].index)\n",
    "\n",
    "# Replace 'Canceled' with 'Failed'\n",
    "dropped_df.state.replace({'Canceled': 'Failed'}, inplace = True)\n",
    "\n",
    "# Convert 'launched' and 'deadline' columns to datetime\n",
    "dropped_df['launched'] = pd.to_datetime(dropped_df['launched'])\n",
    "dropped_df['deadline'] = pd.to_datetime(dropped_df['deadline'])\n",
    "\n",
    "# Calculate the duration in days\n",
    "dropped_df['duration'] = (dropped_df['deadline'] - dropped_df['launched']).dt.days\n",
    "\n",
    "# Create a new column 'launch_month' with the month extracted from the 'launched' column\n",
    "dropped_df['launch_month'] = dropped_df['launched'].dt.month\n",
    "\n",
    "df = dropped_df\n",
    "\n",
    "df.head()"
   ]
  },
  {
   "cell_type": "code",
   "execution_count": 2,
   "id": "f297033a-5f94-4b78-a0fd-6a1e26a4cf93",
   "metadata": {
    "tags": []
   },
   "outputs": [
    {
     "data": {
      "text/plain": [
       "state\n",
       "Failed        236360\n",
       "Successful    133849\n",
       "Name: count, dtype: int64"
      ]
     },
     "execution_count": 2,
     "metadata": {},
     "output_type": "execute_result"
    }
   ],
   "source": [
    "df.state.value_counts()"
   ]
  },
  {
   "cell_type": "code",
   "execution_count": null,
   "id": "5d30d462-8efd-4c7d-972c-fd550c65411b",
   "metadata": {
    "tags": []
   },
   "outputs": [],
   "source": [
    "from sklearn.preprocessing import LabelEncoder\n",
    "\n",
    "# Label encoding\n",
    "columns_to_encode = df[['category', 'subcategory', 'country']]\n",
    "# Initialize LabelEncoder\n",
    "label_encoder = LabelEncoder()\n",
    "# Apply LabelEncoder to each categorical column\n",
    "for col in columns_to_encode:\n",
    "    df[col + '_encoded'] = label_encoder.fit_transform(df[col])\n",
    "\n",
    "# Create a DataFrame to store unique original values and their corresponding encoded values for each column\n",
    "encoded_values_dfs = {}\n",
    "# Iterate through the columns to be encoded\n",
    "for col in columns_to_encode:\n",
    "    # Get unique values of the original column and their corresponding encoded values\n",
    "    unique_original_values = df[col].unique()\n",
    "    encoded_values = label_encoder.fit_transform(unique_original_values)\n",
    "    # Create a DataFrame with original and encoded values\n",
    "    encoded_values_df = pd.DataFrame({\n",
    "        f'{col}_Original': unique_original_values,\n",
    "        f'{col}_Encoded': encoded_values\n",
    "    })\n",
    "    # Sort the DataFrame by the encoded values (for 'Category' column)\n",
    "    if col == 'Category':\n",
    "        encoded_values_df = encoded_values_df.sort_values(by=f'{col}_Encoded', ascending=True)\n",
    "    # Store the DataFrame in the dictionary\n",
    "    encoded_values_dfs[col] = encoded_values_df\n",
    "# Display the DataFrames\n",
    "for col, encoded_values_df in encoded_values_dfs.items():\n",
    "    print(f'\\n{col}:\\n')\n",
    "    print(encoded_values_df)"
   ]
  },
  {
   "cell_type": "code",
   "execution_count": null,
   "id": "7264cf93",
   "metadata": {},
   "outputs": [],
   "source": [
    "encoded_values_dfs"
   ]
  },
  {
   "cell_type": "code",
   "execution_count": null,
   "id": "6a91bd29-d029-4771-8330-bf153f498924",
   "metadata": {
    "tags": []
   },
   "outputs": [],
   "source": [
    "df.head()"
   ]
  },
  {
   "cell_type": "code",
   "execution_count": null,
   "id": "3aebd422-eef4-40ea-85cf-0c7d1a9a8815",
   "metadata": {
    "tags": []
   },
   "outputs": [],
   "source": [
    "# Save new dataset\n",
    "df.to_csv('data/cleaned_encoded_kickstarter_projects.csv', index=False)"
   ]
  },
  {
   "cell_type": "code",
   "execution_count": null,
   "id": "fb354c9d",
   "metadata": {},
   "outputs": [],
   "source": []
  }
 ],
 "metadata": {
  "kernelspec": {
   "display_name": "Python 3 (ipykernel)",
   "language": "python",
   "name": "python3"
  },
  "language_info": {
   "codemirror_mode": {
    "name": "ipython",
    "version": 3
   },
   "file_extension": ".py",
   "mimetype": "text/x-python",
   "name": "python",
   "nbconvert_exporter": "python",
   "pygments_lexer": "ipython3",
   "version": "3.11.3"
  }
 },
 "nbformat": 4,
 "nbformat_minor": 5
}
